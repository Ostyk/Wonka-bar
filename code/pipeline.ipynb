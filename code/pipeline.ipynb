{
 "cells": [
  {
   "cell_type": "code",
   "execution_count": 1,
   "metadata": {},
   "outputs": [],
   "source": [
    "from helper_functions import *\n",
    "import seaborn as sns\n",
    "from sklearn.feature_extraction import DictVectorizer"
   ]
  },
  {
   "cell_type": "markdown",
   "metadata": {},
   "source": [
    "# dataset description\n",
    "* \"time\" -- records the date and time of production\n",
    "* \"green -- bar was green(\"1\") or not green(\"0\")\n",
    "* rest are oompa-loompdas names"
   ]
  },
  {
   "cell_type": "code",
   "execution_count": 282,
   "metadata": {},
   "outputs": [],
   "source": [
    "df = pd.read_csv(\"../data/Scrumpulicious.csv\")\n",
    "y = df['GREEN']\n",
    "\n",
    "def data_processing(df):\n",
    "    use_time = True\n",
    "    if use_time:\n",
    "        to_vec=[]\n",
    "        for i in df['TIME']:\n",
    "            t = time.strptime(i, '%Y-%m-%d %H:%M:%S')\n",
    "            to_vec.append({\"day\": t.tm_mday,\"hour\": t.tm_hour, \"min\": t.tm_min})\n",
    "\n",
    "        vec = DictVectorizer()\n",
    "        time_ = vec.fit_transform(to_vec).toarray()\n",
    "        time_ = pd.DataFrame(time_)\n",
    "        time_.columns = ['day', 'hour', 'minute']\n",
    "        df = pd.concat([time_, df],  axis=1)\n",
    "    df = df.drop(['TIME','GREEN'], axis=1)\n",
    "    return df\n",
    "#df = data_processing(df)"
   ]
  },
  {
   "cell_type": "code",
   "execution_count": 283,
   "metadata": {},
   "outputs": [],
   "source": [
    "use_time = True\n",
    "if use_time:\n",
    "    to_vec=[]\n",
    "    for i in df['TIME']:\n",
    "        t = time.strptime(i, '%Y-%m-%d %H:%M:%S')\n",
    "        #print(t.tm_mon)\n",
    "        to_vec.append({\"day\": t.tm_mday,\n",
    "                       \"day_week\": t.tm_wday,\n",
    "                       \"hour\": t.tm_hour,\n",
    "                       \"min\": t.tm_min,\n",
    "                       \"month\": t.tm_mon,\n",
    "                       })\n",
    "        \n",
    "    vec = DictVectorizer()\n",
    "    time_1 = vec.fit_transform(to_vec).toarray()\n",
    "    time_ = pd.DataFrame(time_1)\n",
    "    time_.columns = ['day', 'day_week', 'hour', 'min', 'month']\n",
    "    df = pd.concat([time_, df],  axis=1)\n",
    "#df = df.drop(['TIME','GREEN'], axis=1)"
   ]
  },
  {
   "cell_type": "code",
   "execution_count": 292,
   "metadata": {},
   "outputs": [],
   "source": [
    "e = pd.concat([df['day'], df['GREEN']], axis=1)\n",
    "day_1 = e['day'].iloc[0]\n",
    "day_last = e['day'].iloc[-1]\n",
    "\n",
    "october = dict()\n",
    "for i in range(int(day_1), 31):\n",
    "    normal, green = e[e['day']==i]['GREEN'].value_counts()\n",
    "    #october.append([normal, green, i, 10])\n",
    "    october.update({str(i): {0:normal,1:green}})\n",
    "november = dict()\n",
    "for i in range(1, int(day_last+1)):\n",
    "    val = e[e['day']==i]['GREEN'].value_counts()\n",
    "    if len(val)>1:\n",
    "        november.update({str(i): {0:normal,1:green}})\n",
    "    else:\n",
    "        november.update({str(i): {0:normal,1:0}})\n",
    "q1, q2 = pd.DataFrame(october).T, pd.DataFrame(november).T\n",
    "q = pd.concat([q1,q2])\n",
    "q.plot(kind='bar', figsize=(20,5), logy=True, title='October comparision of green bars in green')"
   ]
  },
  {
   "cell_type": "code",
   "execution_count": 293,
   "metadata": {},
   "outputs": [
    {
     "data": {
      "text/html": [
       "<div>\n",
       "<style scoped>\n",
       "    .dataframe tbody tr th:only-of-type {\n",
       "        vertical-align: middle;\n",
       "    }\n",
       "\n",
       "    .dataframe tbody tr th {\n",
       "        vertical-align: top;\n",
       "    }\n",
       "\n",
       "    .dataframe thead th {\n",
       "        text-align: right;\n",
       "    }\n",
       "</style>\n",
       "<table border=\"1\" class=\"dataframe\">\n",
       "  <thead>\n",
       "    <tr style=\"text-align: right;\">\n",
       "      <th></th>\n",
       "      <th>0</th>\n",
       "      <th>1</th>\n",
       "    </tr>\n",
       "  </thead>\n",
       "  <tbody>\n",
       "    <tr>\n",
       "      <th>10</th>\n",
       "      <td>431</td>\n",
       "      <td>10</td>\n",
       "    </tr>\n",
       "    <tr>\n",
       "      <th>11</th>\n",
       "      <td>705</td>\n",
       "      <td>3</td>\n",
       "    </tr>\n",
       "    <tr>\n",
       "      <th>12</th>\n",
       "      <td>657</td>\n",
       "      <td>3</td>\n",
       "    </tr>\n",
       "    <tr>\n",
       "      <th>13</th>\n",
       "      <td>708</td>\n",
       "      <td>2</td>\n",
       "    </tr>\n",
       "    <tr>\n",
       "      <th>14</th>\n",
       "      <td>704</td>\n",
       "      <td>1</td>\n",
       "    </tr>\n",
       "    <tr>\n",
       "      <th>15</th>\n",
       "      <td>703</td>\n",
       "      <td>1</td>\n",
       "    </tr>\n",
       "    <tr>\n",
       "      <th>16</th>\n",
       "      <td>686</td>\n",
       "      <td>3</td>\n",
       "    </tr>\n",
       "    <tr>\n",
       "      <th>17</th>\n",
       "      <td>706</td>\n",
       "      <td>3</td>\n",
       "    </tr>\n",
       "    <tr>\n",
       "      <th>18</th>\n",
       "      <td>631</td>\n",
       "      <td>9</td>\n",
       "    </tr>\n",
       "    <tr>\n",
       "      <th>19</th>\n",
       "      <td>700</td>\n",
       "      <td>6</td>\n",
       "    </tr>\n",
       "    <tr>\n",
       "      <th>20</th>\n",
       "      <td>670</td>\n",
       "      <td>4</td>\n",
       "    </tr>\n",
       "    <tr>\n",
       "      <th>21</th>\n",
       "      <td>682</td>\n",
       "      <td>3</td>\n",
       "    </tr>\n",
       "    <tr>\n",
       "      <th>22</th>\n",
       "      <td>653</td>\n",
       "      <td>5</td>\n",
       "    </tr>\n",
       "    <tr>\n",
       "      <th>23</th>\n",
       "      <td>250</td>\n",
       "      <td>1</td>\n",
       "    </tr>\n",
       "    <tr>\n",
       "      <th>24</th>\n",
       "      <td>597</td>\n",
       "      <td>7</td>\n",
       "    </tr>\n",
       "    <tr>\n",
       "      <th>25</th>\n",
       "      <td>718</td>\n",
       "      <td>1</td>\n",
       "    </tr>\n",
       "    <tr>\n",
       "      <th>26</th>\n",
       "      <td>699</td>\n",
       "      <td>1</td>\n",
       "    </tr>\n",
       "    <tr>\n",
       "      <th>27</th>\n",
       "      <td>650</td>\n",
       "      <td>4</td>\n",
       "    </tr>\n",
       "    <tr>\n",
       "      <th>28</th>\n",
       "      <td>709</td>\n",
       "      <td>2</td>\n",
       "    </tr>\n",
       "    <tr>\n",
       "      <th>29</th>\n",
       "      <td>656</td>\n",
       "      <td>10</td>\n",
       "    </tr>\n",
       "    <tr>\n",
       "      <th>30</th>\n",
       "      <td>587</td>\n",
       "      <td>11</td>\n",
       "    </tr>\n",
       "    <tr>\n",
       "      <th>1</th>\n",
       "      <td>587</td>\n",
       "      <td>11</td>\n",
       "    </tr>\n",
       "    <tr>\n",
       "      <th>2</th>\n",
       "      <td>587</td>\n",
       "      <td>11</td>\n",
       "    </tr>\n",
       "    <tr>\n",
       "      <th>3</th>\n",
       "      <td>587</td>\n",
       "      <td>0</td>\n",
       "    </tr>\n",
       "  </tbody>\n",
       "</table>\n",
       "</div>"
      ],
      "text/plain": [
       "      0   1\n",
       "10  431  10\n",
       "11  705   3\n",
       "12  657   3\n",
       "13  708   2\n",
       "14  704   1\n",
       "15  703   1\n",
       "16  686   3\n",
       "17  706   3\n",
       "18  631   9\n",
       "19  700   6\n",
       "20  670   4\n",
       "21  682   3\n",
       "22  653   5\n",
       "23  250   1\n",
       "24  597   7\n",
       "25  718   1\n",
       "26  699   1\n",
       "27  650   4\n",
       "28  709   2\n",
       "29  656  10\n",
       "30  587  11\n",
       "1   587  11\n",
       "2   587  11\n",
       "3   587   0"
      ]
     },
     "execution_count": 293,
     "metadata": {},
     "output_type": "execute_result"
    }
   ],
   "source": [
    "\n"
   ]
  },
  {
   "cell_type": "code",
   "execution_count": 294,
   "metadata": {},
   "outputs": [
    {
     "data": {
      "text/plain": [
       "<matplotlib.axes._subplots.AxesSubplot at 0x11b0c07b8>"
      ]
     },
     "execution_count": 294,
     "metadata": {},
     "output_type": "execute_result"
    },
    {
     "data": {
      "image/png": "[encoded data removed]",
      "text/plain": [
       "<Figure size 1440x360 with 1 Axes>"
      ]
     },
     "metadata": {},
     "output_type": "display_data"
    }
   ],
   "source": []
  },
  {
   "cell_type": "code",
   "execution_count": 248,
   "metadata": {},
   "outputs": [
    {
     "data": {
      "text/plain": [
       "[[693, 6], [701, 4], [94, 0]]"
      ]
     },
     "execution_count": 248,
     "metadata": {},
     "output_type": "execute_result"
    }
   ],
   "source": [
    "data = {'2013': {1:25,2:81,3:15}, '2014': {1:28, 2:65, 3:75}, '2015': {1:78,2:91,3:86 }}"
   ]
  },
  {
   "cell_type": "code",
   "execution_count": 249,
   "metadata": {},
   "outputs": [
    {
     "data": {
      "image/png": "[encoded data removed]",
      "text/plain": [
       "<Figure size 432x288 with 1 Axes>"
      ]
     },
     "metadata": {},
     "output_type": "display_data"
    }
   ],
   "source": [
    "\n",
    "data = {'2013': {1:25,2:81,3:15}, '2014': {1:28, 2:65, 3:75}, '2015': {1:78,2:91,3:86 }}\n",
    "\n",
    "df = pd.DataFrame(data)\n",
    "\n",
    "df.plot(kind='bar')\n",
    "\n",
    "plt.show()"
   ]
  },
  {
   "cell_type": "code",
   "execution_count": 266,
   "metadata": {},
   "outputs": [
    {
     "data": {
      "text/html": [
       "<div>\n",
       "<style scoped>\n",
       "    .dataframe tbody tr th:only-of-type {\n",
       "        vertical-align: middle;\n",
       "    }\n",
       "\n",
       "    .dataframe tbody tr th {\n",
       "        vertical-align: top;\n",
       "    }\n",
       "\n",
       "    .dataframe thead th {\n",
       "        text-align: right;\n",
       "    }\n",
       "</style>\n",
       "<table border=\"1\" class=\"dataframe\">\n",
       "  <thead>\n",
       "    <tr style=\"text-align: right;\">\n",
       "      <th></th>\n",
       "      <th>0</th>\n",
       "      <th>1</th>\n",
       "    </tr>\n",
       "  </thead>\n",
       "  <tbody>\n",
       "    <tr>\n",
       "      <th>10</th>\n",
       "      <td>431</td>\n",
       "      <td>10</td>\n",
       "    </tr>\n",
       "    <tr>\n",
       "      <th>11</th>\n",
       "      <td>705</td>\n",
       "      <td>3</td>\n",
       "    </tr>\n",
       "    <tr>\n",
       "      <th>12</th>\n",
       "      <td>657</td>\n",
       "      <td>3</td>\n",
       "    </tr>\n",
       "    <tr>\n",
       "      <th>13</th>\n",
       "      <td>708</td>\n",
       "      <td>2</td>\n",
       "    </tr>\n",
       "    <tr>\n",
       "      <th>14</th>\n",
       "      <td>704</td>\n",
       "      <td>1</td>\n",
       "    </tr>\n",
       "    <tr>\n",
       "      <th>15</th>\n",
       "      <td>703</td>\n",
       "      <td>1</td>\n",
       "    </tr>\n",
       "    <tr>\n",
       "      <th>16</th>\n",
       "      <td>686</td>\n",
       "      <td>3</td>\n",
       "    </tr>\n",
       "    <tr>\n",
       "      <th>17</th>\n",
       "      <td>706</td>\n",
       "      <td>3</td>\n",
       "    </tr>\n",
       "    <tr>\n",
       "      <th>18</th>\n",
       "      <td>631</td>\n",
       "      <td>9</td>\n",
       "    </tr>\n",
       "    <tr>\n",
       "      <th>19</th>\n",
       "      <td>700</td>\n",
       "      <td>6</td>\n",
       "    </tr>\n",
       "    <tr>\n",
       "      <th>20</th>\n",
       "      <td>670</td>\n",
       "      <td>4</td>\n",
       "    </tr>\n",
       "    <tr>\n",
       "      <th>21</th>\n",
       "      <td>682</td>\n",
       "      <td>3</td>\n",
       "    </tr>\n",
       "    <tr>\n",
       "      <th>22</th>\n",
       "      <td>653</td>\n",
       "      <td>5</td>\n",
       "    </tr>\n",
       "    <tr>\n",
       "      <th>23</th>\n",
       "      <td>250</td>\n",
       "      <td>1</td>\n",
       "    </tr>\n",
       "    <tr>\n",
       "      <th>24</th>\n",
       "      <td>597</td>\n",
       "      <td>7</td>\n",
       "    </tr>\n",
       "    <tr>\n",
       "      <th>25</th>\n",
       "      <td>718</td>\n",
       "      <td>1</td>\n",
       "    </tr>\n",
       "    <tr>\n",
       "      <th>26</th>\n",
       "      <td>699</td>\n",
       "      <td>1</td>\n",
       "    </tr>\n",
       "    <tr>\n",
       "      <th>27</th>\n",
       "      <td>650</td>\n",
       "      <td>4</td>\n",
       "    </tr>\n",
       "    <tr>\n",
       "      <th>28</th>\n",
       "      <td>709</td>\n",
       "      <td>2</td>\n",
       "    </tr>\n",
       "    <tr>\n",
       "      <th>29</th>\n",
       "      <td>656</td>\n",
       "      <td>10</td>\n",
       "    </tr>\n",
       "    <tr>\n",
       "      <th>30</th>\n",
       "      <td>587</td>\n",
       "      <td>11</td>\n",
       "    </tr>\n",
       "  </tbody>\n",
       "</table>\n",
       "</div>"
      ],
      "text/plain": [
       "      0   1\n",
       "10  431  10\n",
       "11  705   3\n",
       "12  657   3\n",
       "13  708   2\n",
       "14  704   1\n",
       "15  703   1\n",
       "16  686   3\n",
       "17  706   3\n",
       "18  631   9\n",
       "19  700   6\n",
       "20  670   4\n",
       "21  682   3\n",
       "22  653   5\n",
       "23  250   1\n",
       "24  597   7\n",
       "25  718   1\n",
       "26  699   1\n",
       "27  650   4\n",
       "28  709   2\n",
       "29  656  10\n",
       "30  587  11"
      ]
     },
     "execution_count": 266,
     "metadata": {},
     "output_type": "execute_result"
    }
   ],
   "source": [
    "q.T"
   ]
  },
  {
   "cell_type": "code",
   "execution_count": 243,
   "metadata": {},
   "outputs": [],
   "source": []
  },
  {
   "cell_type": "code",
   "execution_count": 240,
   "metadata": {},
   "outputs": [
    {
     "data": {
      "text/plain": [
       "[[431, 10, 10, 10],\n",
       " [705, 3, 11, 10],\n",
       " [657, 3, 12, 10],\n",
       " [708, 2, 13, 10],\n",
       " [704, 1, 14, 10],\n",
       " [703, 1, 15, 10],\n",
       " [686, 3, 16, 10],\n",
       " [706, 3, 17, 10],\n",
       " [631, 9, 18, 10],\n",
       " [700, 6, 19, 10],\n",
       " [670, 4, 20, 10],\n",
       " [682, 3, 21, 10],\n",
       " [653, 5, 22, 10],\n",
       " [250, 1, 23, 10],\n",
       " [597, 7, 24, 10],\n",
       " [718, 1, 25, 10],\n",
       " [699, 1, 26, 10],\n",
       " [650, 4, 27, 10],\n",
       " [709, 2, 28, 10],\n",
       " [656, 10, 29, 10],\n",
       " [587, 11, 30, 10]]"
      ]
     },
     "execution_count": 240,
     "metadata": {},
     "output_type": "execute_result"
    }
   ],
   "source": [
    "october"
   ]
  },
  {
   "cell_type": "code",
   "execution_count": 171,
   "metadata": {},
   "outputs": [
    {
     "data": {
      "text/plain": [
       "714"
      ]
     },
     "execution_count": 171,
     "metadata": {},
     "output_type": "execute_result"
    }
   ],
   "source": [
    "e[e['day']==i]['GREEN'].value_counts()[0]"
   ]
  },
  {
   "cell_type": "code",
   "execution_count": 132,
   "metadata": {},
   "outputs": [
    {
     "data": {
      "text/plain": [
       "(array([1488.,    0.,    0., 1793., 2115., 2023., 2052., 1500., 2067.,\n",
       "        2666.]),\n",
       " array([ 1.,  4.,  7., 10., 13., 16., 19., 22., 25., 28., 31.]),\n",
       " <a list of 10 Patch objects>)"
      ]
     },
     "execution_count": 132,
     "metadata": {},
     "output_type": "execute_result"
    },
    {
     "data": {
      "image/png": "[encoded data removed]",
      "text/plain": [
       "<Figure size 432x288 with 1 Axes>"
      ]
     },
     "metadata": {},
     "output_type": "display_data"
    }
   ],
   "source": [
    "e = pd.concat([df['day'],df['GREEN']], axis=1)\n",
    "plt.hist(e[e['GREEN']==0]['day'])"
   ]
  },
  {
   "cell_type": "code",
   "execution_count": null,
   "metadata": {},
   "outputs": [],
   "source": []
  },
  {
   "cell_type": "code",
   "execution_count": null,
   "metadata": {},
   "outputs": [],
   "source": []
  },
  {
   "cell_type": "code",
   "execution_count": null,
   "metadata": {},
   "outputs": [],
   "source": []
  },
  {
   "cell_type": "code",
   "execution_count": null,
   "metadata": {},
   "outputs": [],
   "source": []
  },
  {
   "cell_type": "code",
   "execution_count": null,
   "metadata": {},
   "outputs": [],
   "source": []
  },
  {
   "cell_type": "code",
   "execution_count": 3,
   "metadata": {},
   "outputs": [
    {
     "data": {
      "text/html": [
       "<div>\n",
       "<style scoped>\n",
       "    .dataframe tbody tr th:only-of-type {\n",
       "        vertical-align: middle;\n",
       "    }\n",
       "\n",
       "    .dataframe tbody tr th {\n",
       "        vertical-align: top;\n",
       "    }\n",
       "\n",
       "    .dataframe thead th {\n",
       "        text-align: right;\n",
       "    }\n",
       "</style>\n",
       "<table border=\"1\" class=\"dataframe\">\n",
       "  <thead>\n",
       "    <tr style=\"text-align: right;\">\n",
       "      <th></th>\n",
       "      <th>day</th>\n",
       "      <th>hour</th>\n",
       "      <th>minute</th>\n",
       "      <th>PIB</th>\n",
       "      <th>MOZ</th>\n",
       "      <th>NOL</th>\n",
       "      <th>ZEN</th>\n",
       "      <th>SIP</th>\n",
       "      <th>MAZ</th>\n",
       "      <th>FOK</th>\n",
       "      <th>...</th>\n",
       "      <th>FUG</th>\n",
       "      <th>NIT</th>\n",
       "      <th>SIM</th>\n",
       "      <th>DUB</th>\n",
       "      <th>ZIR</th>\n",
       "      <th>RUP</th>\n",
       "      <th>LEM</th>\n",
       "      <th>GIS</th>\n",
       "      <th>POF</th>\n",
       "      <th>SUG</th>\n",
       "    </tr>\n",
       "  </thead>\n",
       "  <tbody>\n",
       "    <tr>\n",
       "      <th>15801</th>\n",
       "      <td>3.0</td>\n",
       "      <td>2.0</td>\n",
       "      <td>58.0</td>\n",
       "      <td>-0.75971</td>\n",
       "      <td>-0.75543</td>\n",
       "      <td>-0.20645</td>\n",
       "      <td>-103.86804</td>\n",
       "      <td>-0.05024</td>\n",
       "      <td>13.72655</td>\n",
       "      <td>0.16634</td>\n",
       "      <td>...</td>\n",
       "      <td>25.72803</td>\n",
       "      <td>0.15707</td>\n",
       "      <td>-0.8235</td>\n",
       "      <td>-2.29603</td>\n",
       "      <td>-0.00440</td>\n",
       "      <td>5.82365</td>\n",
       "      <td>0.20666</td>\n",
       "      <td>-0.00706</td>\n",
       "      <td>0.96213</td>\n",
       "      <td>-0.01240</td>\n",
       "    </tr>\n",
       "    <tr>\n",
       "      <th>15802</th>\n",
       "      <td>3.0</td>\n",
       "      <td>3.0</td>\n",
       "      <td>0.0</td>\n",
       "      <td>-0.73075</td>\n",
       "      <td>-0.60813</td>\n",
       "      <td>-0.28543</td>\n",
       "      <td>-102.27720</td>\n",
       "      <td>-0.06322</td>\n",
       "      <td>13.40202</td>\n",
       "      <td>0.16634</td>\n",
       "      <td>...</td>\n",
       "      <td>25.72803</td>\n",
       "      <td>0.15707</td>\n",
       "      <td>-0.8235</td>\n",
       "      <td>-2.29682</td>\n",
       "      <td>-0.00032</td>\n",
       "      <td>6.06426</td>\n",
       "      <td>0.21999</td>\n",
       "      <td>-0.00734</td>\n",
       "      <td>0.18836</td>\n",
       "      <td>-0.01239</td>\n",
       "    </tr>\n",
       "    <tr>\n",
       "      <th>15803</th>\n",
       "      <td>3.0</td>\n",
       "      <td>3.0</td>\n",
       "      <td>2.0</td>\n",
       "      <td>-0.71565</td>\n",
       "      <td>-0.43238</td>\n",
       "      <td>-0.16995</td>\n",
       "      <td>-103.61989</td>\n",
       "      <td>-0.07621</td>\n",
       "      <td>13.07750</td>\n",
       "      <td>0.16634</td>\n",
       "      <td>...</td>\n",
       "      <td>25.72803</td>\n",
       "      <td>0.15707</td>\n",
       "      <td>-0.8235</td>\n",
       "      <td>-2.29761</td>\n",
       "      <td>-0.00178</td>\n",
       "      <td>6.06426</td>\n",
       "      <td>0.33864</td>\n",
       "      <td>-0.00920</td>\n",
       "      <td>0.66709</td>\n",
       "      <td>-0.01238</td>\n",
       "    </tr>\n",
       "    <tr>\n",
       "      <th>15804</th>\n",
       "      <td>3.0</td>\n",
       "      <td>3.0</td>\n",
       "      <td>4.0</td>\n",
       "      <td>-0.71244</td>\n",
       "      <td>-0.40285</td>\n",
       "      <td>-0.19671</td>\n",
       "      <td>-104.14266</td>\n",
       "      <td>-0.08921</td>\n",
       "      <td>12.75297</td>\n",
       "      <td>0.16634</td>\n",
       "      <td>...</td>\n",
       "      <td>25.72803</td>\n",
       "      <td>0.15707</td>\n",
       "      <td>-0.8235</td>\n",
       "      <td>-2.29841</td>\n",
       "      <td>-0.00137</td>\n",
       "      <td>6.06426</td>\n",
       "      <td>0.20666</td>\n",
       "      <td>-0.00890</td>\n",
       "      <td>1.49408</td>\n",
       "      <td>-0.01238</td>\n",
       "    </tr>\n",
       "    <tr>\n",
       "      <th>15805</th>\n",
       "      <td>3.0</td>\n",
       "      <td>3.0</td>\n",
       "      <td>6.0</td>\n",
       "      <td>-0.72814</td>\n",
       "      <td>-0.55974</td>\n",
       "      <td>-0.30143</td>\n",
       "      <td>-104.66540</td>\n",
       "      <td>-0.10220</td>\n",
       "      <td>12.89804</td>\n",
       "      <td>0.16634</td>\n",
       "      <td>...</td>\n",
       "      <td>25.72803</td>\n",
       "      <td>0.15707</td>\n",
       "      <td>-0.8235</td>\n",
       "      <td>-2.29920</td>\n",
       "      <td>-0.00090</td>\n",
       "      <td>6.06426</td>\n",
       "      <td>0.17587</td>\n",
       "      <td>-0.00860</td>\n",
       "      <td>0.45008</td>\n",
       "      <td>-0.01237</td>\n",
       "    </tr>\n",
       "  </tbody>\n",
       "</table>\n",
       "<p>5 rows × 63 columns</p>\n",
       "</div>"
      ],
      "text/plain": [
       "       day  hour  minute      PIB      MOZ      NOL        ZEN      SIP  \\\n",
       "15801  3.0   2.0    58.0 -0.75971 -0.75543 -0.20645 -103.86804 -0.05024   \n",
       "15802  3.0   3.0     0.0 -0.73075 -0.60813 -0.28543 -102.27720 -0.06322   \n",
       "15803  3.0   3.0     2.0 -0.71565 -0.43238 -0.16995 -103.61989 -0.07621   \n",
       "15804  3.0   3.0     4.0 -0.71244 -0.40285 -0.19671 -104.14266 -0.08921   \n",
       "15805  3.0   3.0     6.0 -0.72814 -0.55974 -0.30143 -104.66540 -0.10220   \n",
       "\n",
       "            MAZ      FOK   ...          FUG      NIT     SIM      DUB  \\\n",
       "15801  13.72655  0.16634   ...     25.72803  0.15707 -0.8235 -2.29603   \n",
       "15802  13.40202  0.16634   ...     25.72803  0.15707 -0.8235 -2.29682   \n",
       "15803  13.07750  0.16634   ...     25.72803  0.15707 -0.8235 -2.29761   \n",
       "15804  12.75297  0.16634   ...     25.72803  0.15707 -0.8235 -2.29841   \n",
       "15805  12.89804  0.16634   ...     25.72803  0.15707 -0.8235 -2.29920   \n",
       "\n",
       "           ZIR      RUP      LEM      GIS      POF      SUG  \n",
       "15801 -0.00440  5.82365  0.20666 -0.00706  0.96213 -0.01240  \n",
       "15802 -0.00032  6.06426  0.21999 -0.00734  0.18836 -0.01239  \n",
       "15803 -0.00178  6.06426  0.33864 -0.00920  0.66709 -0.01238  \n",
       "15804 -0.00137  6.06426  0.20666 -0.00890  1.49408 -0.01238  \n",
       "15805 -0.00090  6.06426  0.17587 -0.00860  0.45008 -0.01237  \n",
       "\n",
       "[5 rows x 63 columns]"
      ]
     },
     "execution_count": 3,
     "metadata": {},
     "output_type": "execute_result"
    }
   ],
   "source": [
    "df.tail()"
   ]
  },
  {
   "cell_type": "markdown",
   "metadata": {},
   "source": [
    "### Checking for correlation between columns\n"
   ]
  },
  {
   "cell_type": "code",
   "execution_count": 4,
   "metadata": {},
   "outputs": [
    {
     "data": {
      "image/png": "[encoded data removed]",
      "text/plain": [
       "<Figure size 792x648 with 2 Axes>"
      ]
     },
     "metadata": {},
     "output_type": "display_data"
    }
   ],
   "source": [
    "corr_heatmap(df)"
   ]
  },
  {
   "cell_type": "markdown",
   "metadata": {},
   "source": [
    "### Checking for correlation between columns AFTER getting rid of some columns\n"
   ]
  },
  {
   "cell_type": "code",
   "execution_count": 5,
   "metadata": {},
   "outputs": [
    {
     "name": "stdout",
     "output_type": "stream",
     "text": [
      "before:  (15806, 63)\n",
      "after:  (15806, 20)\n",
      "pos: 21\tneg: 22\n"
     ]
    },
    {
     "data": {
      "image/png": "[encoded data removed]",
      "text/plain": [
       "<Figure size 792x648 with 2 Axes>"
      ]
     },
     "metadata": {},
     "output_type": "display_data"
    }
   ],
   "source": [
    "uncorr_df, deleted_columns = correlation(df, 0.31)\n",
    "X = np.array(uncorr_df)\n",
    "corr_heatmap(uncorr_df)"
   ]
  },
  {
   "cell_type": "markdown",
   "metadata": {},
   "source": [
    "# Checking if any columns are from the normal distribution"
   ]
  },
  {
   "cell_type": "code",
   "execution_count": 6,
   "metadata": {},
   "outputs": [
    {
     "name": "stdout",
     "output_type": "stream",
     "text": [
      "True\n"
     ]
    }
   ],
   "source": [
    "a = [st.normaltest(X[:,i])[1] for i in range(X.shape[1])]\n",
    "alpha = 0.05\n",
    "print((np.array(a)<alpha).all())"
   ]
  },
  {
   "cell_type": "markdown",
   "metadata": {},
   "source": [
    "#### Hence non are from the normal distribution"
   ]
  },
  {
   "cell_type": "markdown",
   "metadata": {},
   "source": [
    "## Using PCA to preview the data"
   ]
  },
  {
   "cell_type": "code",
   "execution_count": 7,
   "metadata": {},
   "outputs": [
    {
     "data": {
      "image/png": "[encoded data removed]",
      "text/plain": [
       "<Figure size 432x288 with 1 Axes>"
      ]
     },
     "metadata": {},
     "output_type": "display_data"
    }
   ],
   "source": [
    "X_pca = standardize_data(X)\n",
    "\n",
    "pca = PCA(n_components=2)\n",
    "X_pca = pca.fit_transform(X_pca)\n",
    "plot_2d_space(X_pca, y, 'Imbalanced dataset (2 PCA components)')"
   ]
  },
  {
   "cell_type": "code",
   "execution_count": null,
   "metadata": {},
   "outputs": [],
   "source": []
  },
  {
   "cell_type": "markdown",
   "metadata": {},
   "source": [
    "------"
   ]
  },
  {
   "cell_type": "markdown",
   "metadata": {},
   "source": [
    "# Training and building models\n",
    "   Using SVM and Random Forest classifiers\n",
    "    1. On an imbalanced dataset \n",
    "    2. On a balanced dataset using oversampling techinques"
   ]
  },
  {
   "cell_type": "markdown",
   "metadata": {},
   "source": [
    "# Imbalanced dataset"
   ]
  },
  {
   "cell_type": "code",
   "execution_count": 8,
   "metadata": {},
   "outputs": [
    {
     "name": "stderr",
     "output_type": "stream",
     "text": [
      "/Library/Frameworks/Python.framework/Versions/3.6/lib/python3.6/site-packages/sklearn/metrics/classification.py:1143: UndefinedMetricWarning: Precision is ill-defined and being set to 0.0 due to no predicted samples.\n",
      "  'precision', 'predicted', average, warn_for)\n",
      "/Library/Frameworks/Python.framework/Versions/3.6/lib/python3.6/site-packages/sklearn/metrics/classification.py:1143: UndefinedMetricWarning: Precision is ill-defined and being set to 0.0 due to no predicted samples.\n",
      "  'precision', 'predicted', average, warn_for)\n",
      "/Library/Frameworks/Python.framework/Versions/3.6/lib/python3.6/site-packages/sklearn/metrics/classification.py:1143: UndefinedMetricWarning: Precision is ill-defined and being set to 0.0 due to no predicted samples.\n",
      "  'precision', 'predicted', average, warn_for)\n"
     ]
    },
    {
     "data": {
      "image/png": "[encoded data removed]",
      "text/plain": [
       "<Figure size 720x504 with 1 Axes>"
      ]
     },
     "metadata": {},
     "output_type": "display_data"
    },
    {
     "data": {
      "text/html": [
       "<div>\n",
       "<style scoped>\n",
       "    .dataframe tbody tr th:only-of-type {\n",
       "        vertical-align: middle;\n",
       "    }\n",
       "\n",
       "    .dataframe tbody tr th {\n",
       "        vertical-align: top;\n",
       "    }\n",
       "\n",
       "    .dataframe thead th {\n",
       "        text-align: right;\n",
       "    }\n",
       "</style>\n",
       "<table border=\"1\" class=\"dataframe\">\n",
       "  <thead>\n",
       "    <tr style=\"text-align: right;\">\n",
       "      <th></th>\n",
       "      <th>Model</th>\n",
       "      <th>accuracy</th>\n",
       "      <th>recall</th>\n",
       "      <th>precision</th>\n",
       "      <th>f1-score</th>\n",
       "      <th>param 1</th>\n",
       "      <th>param 2</th>\n",
       "    </tr>\n",
       "  </thead>\n",
       "  <tbody>\n",
       "    <tr>\n",
       "      <th>0</th>\n",
       "      <td>SVM</td>\n",
       "      <td>0.9935468+/-0.0000007</td>\n",
       "      <td>0.0+/-0</td>\n",
       "      <td>0.0+/-0</td>\n",
       "      <td>0.9967629+/-0.0000004</td>\n",
       "      <td>0.001</td>\n",
       "      <td>10</td>\n",
       "    </tr>\n",
       "    <tr>\n",
       "      <th>0</th>\n",
       "      <td>RANDOM-FOREST</td>\n",
       "      <td>0.99563+/-0.00033</td>\n",
       "      <td>0.87+/-0.06</td>\n",
       "      <td>0.382+/-0.029</td>\n",
       "      <td>0.9948+/-0.0004</td>\n",
       "      <td>6.000</td>\n",
       "      <td>100</td>\n",
       "    </tr>\n",
       "  </tbody>\n",
       "</table>\n",
       "</div>"
      ],
      "text/plain": [
       "           Model               accuracy       recall      precision  \\\n",
       "0            SVM  0.9935468+/-0.0000007      0.0+/-0        0.0+/-0   \n",
       "0  RANDOM-FOREST      0.99563+/-0.00033  0.87+/-0.06  0.382+/-0.029   \n",
       "\n",
       "                f1-score  param 1  param 2  \n",
       "0  0.9967629+/-0.0000004    0.001       10  \n",
       "0        0.9948+/-0.0004    6.000      100  "
      ]
     },
     "execution_count": 8,
     "metadata": {},
     "output_type": "execute_result"
    }
   ],
   "source": [
    "SVM_1_performance, SVM_1_roc = model(X, y,\n",
    "                                     n_splits=3, seed=42,\n",
    "                                     model_name='SVM',\n",
    "                                    over_sampling = False)\n",
    "RM_1_performance, RM_1_roc = model(X, y,\n",
    "                                   n_splits=3, seed=42,\n",
    "                                   model_name='RANDOM-FOREST',\n",
    "                                   over_sampling = False)\n",
    "plot_roc([SVM_1_roc, RM_1_roc])\n",
    "result = pd.concat([SVM_1_performance, RM_1_performance])\n",
    "result"
   ]
  },
  {
   "cell_type": "markdown",
   "metadata": {},
   "source": [
    "The performance is quite poor, let's try to use sampling techniques to better train our model"
   ]
  },
  {
   "cell_type": "markdown",
   "metadata": {},
   "source": [
    "# balanced (oversampled) dataset\n",
    "#### dropping SVM as it has really poor results, but on the other hand Random Forst reduces overfitting \n",
    "1.  First using cross validation, I will gry to get the best hyperparamters\n",
    "2. Using the best hyperparamters, I will train a seperate model. This require the right approach to over sampling. Where we have a hold out test set"
   ]
  },
  {
   "cell_type": "code",
   "execution_count": 9,
   "metadata": {},
   "outputs": [
    {
     "data": {
      "image/png": "[encoded data removed]",
      "text/plain": [
       "<Figure size 720x504 with 1 Axes>"
      ]
     },
     "metadata": {},
     "output_type": "display_data"
    },
    {
     "data": {
      "text/html": [
       "<div>\n",
       "<style scoped>\n",
       "    .dataframe tbody tr th:only-of-type {\n",
       "        vertical-align: middle;\n",
       "    }\n",
       "\n",
       "    .dataframe tbody tr th {\n",
       "        vertical-align: top;\n",
       "    }\n",
       "\n",
       "    .dataframe thead th {\n",
       "        text-align: right;\n",
       "    }\n",
       "</style>\n",
       "<table border=\"1\" class=\"dataframe\">\n",
       "  <thead>\n",
       "    <tr style=\"text-align: right;\">\n",
       "      <th></th>\n",
       "      <th>Model</th>\n",
       "      <th>accuracy</th>\n",
       "      <th>recall</th>\n",
       "      <th>precision</th>\n",
       "      <th>f1-score</th>\n",
       "      <th>param 1</th>\n",
       "      <th>param 2</th>\n",
       "    </tr>\n",
       "  </thead>\n",
       "  <tbody>\n",
       "    <tr>\n",
       "      <th>0</th>\n",
       "      <td>RANDOM-FOREST</td>\n",
       "      <td>0.9946+/-0.0005</td>\n",
       "      <td>0.63+/-0.08</td>\n",
       "      <td>0.44+/-0.09</td>\n",
       "      <td>0.9942+/-0.0006</td>\n",
       "      <td>8</td>\n",
       "      <td>100</td>\n",
       "    </tr>\n",
       "  </tbody>\n",
       "</table>\n",
       "</div>"
      ],
      "text/plain": [
       "           Model         accuracy       recall    precision         f1-score  \\\n",
       "0  RANDOM-FOREST  0.9946+/-0.0005  0.63+/-0.08  0.44+/-0.09  0.9942+/-0.0006   \n",
       "\n",
       "   param 1  param 2  \n",
       "0        8      100  "
      ]
     },
     "execution_count": 9,
     "metadata": {},
     "output_type": "execute_result"
    }
   ],
   "source": [
    "RM_1_performance, RM_1_roc = model(X, y,\n",
    "                                   n_splits=3, seed=42,\n",
    "                                   model_name='RANDOM-FOREST',\n",
    "                                   over_sampling = True)\n",
    "plot_roc([ RM_1_roc])\n",
    "RM_1_performance"
   ]
  },
  {
   "cell_type": "markdown",
   "metadata": {},
   "source": [
    "## Correct way to oversampling knowing the best hyperparameters"
   ]
  },
  {
   "cell_type": "code",
   "execution_count": 10,
   "metadata": {},
   "outputs": [],
   "source": [
    "X = standardize_data(X)"
   ]
  },
  {
   "cell_type": "code",
   "execution_count": 11,
   "metadata": {},
   "outputs": [],
   "source": [
    "from imblearn.over_sampling import SMOTE\n",
    "sm = SMOTE(ratio='minority')"
   ]
  },
  {
   "cell_type": "code",
   "execution_count": 12,
   "metadata": {},
   "outputs": [],
   "source": [
    "# First split data\n",
    "X_train, X_test, y_train, y_test = train_test_split(X, y, test_size=0.4, random_state=42)"
   ]
  },
  {
   "cell_type": "code",
   "execution_count": 13,
   "metadata": {},
   "outputs": [
    {
     "data": {
      "image/png": "[encoded data removed]",
      "text/plain": [
       "<Figure size 432x288 with 1 Axes>"
      ]
     },
     "metadata": {},
     "output_type": "display_data"
    }
   ],
   "source": [
    "plot_2d_space(X, y, 'imbalanced data')"
   ]
  },
  {
   "cell_type": "code",
   "execution_count": 14,
   "metadata": {},
   "outputs": [
    {
     "name": "stdout",
     "output_type": "stream",
     "text": [
      "(array([0, 1]), array([6591, 6591]))\n"
     ]
    }
   ],
   "source": [
    "# Then split again to oversample only on the training\n",
    "# not on the validation nore test set\n",
    "\n",
    "X_train, X_val, y_train, y_val = train_test_split(X_train, y_train, test_size=0.3, random_state=42)\n",
    "#over-sample\n",
    "x_train_res, y_train_res = sm.fit_sample(X_train, y_train)\n",
    "print(np.unique(y_train_res, return_counts=True))"
   ]
  },
  {
   "cell_type": "code",
   "execution_count": 15,
   "metadata": {},
   "outputs": [
    {
     "data": {
      "image/png": "[encoded data removed]",
      "text/plain": [
       "<Figure size 432x288 with 1 Axes>"
      ]
     },
     "metadata": {},
     "output_type": "display_data"
    }
   ],
   "source": [
    "plot_2d_space(x_train_res, y_train_res, 'SMOTE over-sampling')"
   ]
  },
  {
   "cell_type": "code",
   "execution_count": 28,
   "metadata": {},
   "outputs": [
    {
     "data": {
      "text/plain": [
       "RandomForestClassifier(bootstrap=True, class_weight=None, criterion='gini',\n",
       "            max_depth=6, max_features='auto', max_leaf_nodes=None,\n",
       "            min_impurity_decrease=0.0, min_impurity_split=None,\n",
       "            min_samples_leaf=1, min_samples_split=2,\n",
       "            min_weight_fraction_leaf=0.0, n_estimators=100, n_jobs=None,\n",
       "            oob_score=False, random_state=42, verbose=0, warm_start=False)"
      ]
     },
     "execution_count": 28,
     "metadata": {},
     "output_type": "execute_result"
    }
   ],
   "source": [
    "#TRAIN\n",
    "clf_rf = RandomForestClassifier(n_estimators = 100,\n",
    "                                max_depth = 6,\n",
    "                                random_state= 42)\n",
    "#clf_rf.fit(x_train_res, y_train_res)\n",
    "clf_rf.fit(X, y)"
   ]
  },
  {
   "cell_type": "code",
   "execution_count": 17,
   "metadata": {},
   "outputs": [],
   "source": [
    "#X_test, y_test = sm.fit_sample(X_test, y_test)\n"
   ]
  },
  {
   "cell_type": "code",
   "execution_count": 18,
   "metadata": {},
   "outputs": [
    {
     "name": "stdout",
     "output_type": "stream",
     "text": [
      "Validation Results\n",
      "accuracy:  0.9768014059753954\n",
      "recll:  0.75\n",
      "classification report:               precision    recall  f1-score   support\n",
      "\n",
      "           0       1.00      0.98      0.99      2829\n",
      "           1       0.16      0.75      0.27        16\n",
      "\n",
      "   micro avg       0.98      0.98      0.98      2845\n",
      "   macro avg       0.58      0.86      0.63      2845\n",
      "weighted avg       0.99      0.98      0.98      2845\n",
      "\n",
      "\n",
      "Test Results\n",
      "accuracy:  0.9767515419895619\n",
      "recll:  0.6923076923076923\n",
      "classification report:               precision    recall  f1-score   support\n",
      "\n",
      "           0       1.00      0.98      0.99      6284\n",
      "           1       0.17      0.69      0.27        39\n",
      "\n",
      "   micro avg       0.98      0.98      0.98      6323\n",
      "   macro avg       0.58      0.84      0.63      6323\n",
      "weighted avg       0.99      0.98      0.98      6323\n",
      "\n"
     ]
    }
   ],
   "source": [
    "#metrics\n",
    "#X_test, y_test = sm.fit_sample(X_test, y_test)\n",
    "print ('Validation Results')\n",
    "y_pred_val = clf_rf.predict(X_val)\n",
    "print (\"accuracy: \", clf_rf.score(X_val, y_val))\n",
    "print (\"recll: \",recall_score(y_val, clf_rf.predict(X_val)))\n",
    "print(\"classification report:\",classification_report(y_val, y_pred_val)) \n",
    "\n",
    "print ('\\nTest Results')\n",
    "y_pred_test = clf_rf.predict(X_test)\n",
    "print (\"accuracy: \", clf_rf.score(X_test, y_test))\n",
    "print (\"recll: \", recall_score(y_test, clf_rf.predict(X_test)))\n",
    "print(\"classification report:\",classification_report(y_test, y_pred_test)) "
   ]
  },
  {
   "cell_type": "code",
   "execution_count": 19,
   "metadata": {},
   "outputs": [
    {
     "data": {
      "text/plain": [
       "(15806, 20)"
      ]
     },
     "execution_count": 19,
     "metadata": {},
     "output_type": "execute_result"
    }
   ],
   "source": [
    "X.shape"
   ]
  },
  {
   "cell_type": "markdown",
   "metadata": {},
   "source": [
    "# saving model"
   ]
  },
  {
   "cell_type": "code",
   "execution_count": 29,
   "metadata": {},
   "outputs": [
    {
     "data": {
      "text/plain": [
       "['../data/finalized_model.sav']"
      ]
     },
     "execution_count": 29,
     "metadata": {},
     "output_type": "execute_result"
    }
   ],
   "source": [
    "from sklearn.externals import joblib\n",
    "filename = '../data/finalized_model.sav'\n",
    "joblib.dump(clf_rf, filename)\n",
    " \n",
    " "
   ]
  },
  {
   "cell_type": "code",
   "execution_count": 30,
   "metadata": {},
   "outputs": [],
   "source": [
    "# load the model from disk\n",
    "loaded_model = joblib.load(filename)"
   ]
  },
  {
   "cell_type": "code",
   "execution_count": 31,
   "metadata": {},
   "outputs": [
    {
     "data": {
      "text/html": [
       "<div>\n",
       "<style scoped>\n",
       "    .dataframe tbody tr th:only-of-type {\n",
       "        vertical-align: middle;\n",
       "    }\n",
       "\n",
       "    .dataframe tbody tr th {\n",
       "        vertical-align: top;\n",
       "    }\n",
       "\n",
       "    .dataframe thead th {\n",
       "        text-align: right;\n",
       "    }\n",
       "</style>\n",
       "<table border=\"1\" class=\"dataframe\">\n",
       "  <thead>\n",
       "    <tr style=\"text-align: right;\">\n",
       "      <th></th>\n",
       "      <th>day</th>\n",
       "      <th>hour</th>\n",
       "      <th>minute</th>\n",
       "      <th>PIB</th>\n",
       "      <th>MOZ</th>\n",
       "      <th>NOL</th>\n",
       "      <th>ZEN</th>\n",
       "      <th>MAZ</th>\n",
       "      <th>FOK</th>\n",
       "      <th>BIN</th>\n",
       "      <th>SIG</th>\n",
       "      <th>ZEZ</th>\n",
       "      <th>ZET</th>\n",
       "      <th>DAG</th>\n",
       "      <th>ROD</th>\n",
       "      <th>KIB</th>\n",
       "      <th>SOV</th>\n",
       "      <th>LAS</th>\n",
       "      <th>KUT</th>\n",
       "      <th>PAD</th>\n",
       "    </tr>\n",
       "  </thead>\n",
       "  <tbody>\n",
       "    <tr>\n",
       "      <th>0</th>\n",
       "      <td>6.0</td>\n",
       "      <td>3.0</td>\n",
       "      <td>0.0</td>\n",
       "      <td>0.32613</td>\n",
       "      <td>4.41527</td>\n",
       "      <td>2.08047</td>\n",
       "      <td>-10.36190</td>\n",
       "      <td>-10.78790</td>\n",
       "      <td>-0.00077</td>\n",
       "      <td>-0.06506</td>\n",
       "      <td>0.03181</td>\n",
       "      <td>0.07340</td>\n",
       "      <td>0.02083</td>\n",
       "      <td>0.86994</td>\n",
       "      <td>-0.02640</td>\n",
       "      <td>0.01400</td>\n",
       "      <td>-2.34362</td>\n",
       "      <td>-0.25956</td>\n",
       "      <td>-0.49867</td>\n",
       "      <td>0.09655</td>\n",
       "    </tr>\n",
       "    <tr>\n",
       "      <th>1</th>\n",
       "      <td>6.0</td>\n",
       "      <td>3.0</td>\n",
       "      <td>2.0</td>\n",
       "      <td>0.41189</td>\n",
       "      <td>4.36346</td>\n",
       "      <td>2.04116</td>\n",
       "      <td>-12.45995</td>\n",
       "      <td>-9.79011</td>\n",
       "      <td>-0.00077</td>\n",
       "      <td>-0.06506</td>\n",
       "      <td>0.03181</td>\n",
       "      <td>0.07343</td>\n",
       "      <td>0.02065</td>\n",
       "      <td>0.86994</td>\n",
       "      <td>-0.02318</td>\n",
       "      <td>0.00296</td>\n",
       "      <td>-3.61267</td>\n",
       "      <td>-0.25956</td>\n",
       "      <td>-1.29076</td>\n",
       "      <td>0.09688</td>\n",
       "    </tr>\n",
       "    <tr>\n",
       "      <th>2</th>\n",
       "      <td>6.0</td>\n",
       "      <td>3.0</td>\n",
       "      <td>4.0</td>\n",
       "      <td>0.31503</td>\n",
       "      <td>4.49688</td>\n",
       "      <td>2.21122</td>\n",
       "      <td>-10.84578</td>\n",
       "      <td>-9.30919</td>\n",
       "      <td>-0.01129</td>\n",
       "      <td>-0.06506</td>\n",
       "      <td>0.01594</td>\n",
       "      <td>0.07346</td>\n",
       "      <td>0.02048</td>\n",
       "      <td>0.86994</td>\n",
       "      <td>-0.02436</td>\n",
       "      <td>0.05474</td>\n",
       "      <td>-0.46988</td>\n",
       "      <td>-0.25956</td>\n",
       "      <td>-0.59566</td>\n",
       "      <td>0.09721</td>\n",
       "    </tr>\n",
       "    <tr>\n",
       "      <th>3</th>\n",
       "      <td>6.0</td>\n",
       "      <td>3.0</td>\n",
       "      <td>6.0</td>\n",
       "      <td>0.26113</td>\n",
       "      <td>4.57136</td>\n",
       "      <td>2.04383</td>\n",
       "      <td>-10.10387</td>\n",
       "      <td>-9.66460</td>\n",
       "      <td>-0.00217</td>\n",
       "      <td>-0.06506</td>\n",
       "      <td>0.01060</td>\n",
       "      <td>0.07348</td>\n",
       "      <td>0.02030</td>\n",
       "      <td>0.86994</td>\n",
       "      <td>-0.04014</td>\n",
       "      <td>0.03564</td>\n",
       "      <td>2.67290</td>\n",
       "      <td>-0.25956</td>\n",
       "      <td>0.77335</td>\n",
       "      <td>0.09754</td>\n",
       "    </tr>\n",
       "    <tr>\n",
       "      <th>4</th>\n",
       "      <td>6.0</td>\n",
       "      <td>3.0</td>\n",
       "      <td>8.0</td>\n",
       "      <td>0.22995</td>\n",
       "      <td>4.56271</td>\n",
       "      <td>2.20106</td>\n",
       "      <td>-11.72043</td>\n",
       "      <td>-9.13658</td>\n",
       "      <td>-0.00077</td>\n",
       "      <td>-0.06506</td>\n",
       "      <td>0.01594</td>\n",
       "      <td>0.07351</td>\n",
       "      <td>0.02012</td>\n",
       "      <td>0.86994</td>\n",
       "      <td>-0.03300</td>\n",
       "      <td>0.09948</td>\n",
       "      <td>-1.46339</td>\n",
       "      <td>-0.25956</td>\n",
       "      <td>-0.07228</td>\n",
       "      <td>0.09787</td>\n",
       "    </tr>\n",
       "  </tbody>\n",
       "</table>\n",
       "</div>"
      ],
      "text/plain": [
       "   day  hour  minute      PIB      MOZ      NOL       ZEN       MAZ      FOK  \\\n",
       "0  6.0   3.0     0.0  0.32613  4.41527  2.08047 -10.36190 -10.78790 -0.00077   \n",
       "1  6.0   3.0     2.0  0.41189  4.36346  2.04116 -12.45995  -9.79011 -0.00077   \n",
       "2  6.0   3.0     4.0  0.31503  4.49688  2.21122 -10.84578  -9.30919 -0.01129   \n",
       "3  6.0   3.0     6.0  0.26113  4.57136  2.04383 -10.10387  -9.66460 -0.00217   \n",
       "4  6.0   3.0     8.0  0.22995  4.56271  2.20106 -11.72043  -9.13658 -0.00077   \n",
       "\n",
       "       BIN      SIG      ZEZ      ZET      DAG      ROD      KIB      SOV  \\\n",
       "0 -0.06506  0.03181  0.07340  0.02083  0.86994 -0.02640  0.01400 -2.34362   \n",
       "1 -0.06506  0.03181  0.07343  0.02065  0.86994 -0.02318  0.00296 -3.61267   \n",
       "2 -0.06506  0.01594  0.07346  0.02048  0.86994 -0.02436  0.05474 -0.46988   \n",
       "3 -0.06506  0.01060  0.07348  0.02030  0.86994 -0.04014  0.03564  2.67290   \n",
       "4 -0.06506  0.01594  0.07351  0.02012  0.86994 -0.03300  0.09948 -1.46339   \n",
       "\n",
       "       LAS      KUT      PAD  \n",
       "0 -0.25956 -0.49867  0.09655  \n",
       "1 -0.25956 -1.29076  0.09688  \n",
       "2 -0.25956 -0.59566  0.09721  \n",
       "3 -0.25956  0.77335  0.09754  \n",
       "4 -0.25956 -0.07228  0.09787  "
      ]
     },
     "execution_count": 31,
     "metadata": {},
     "output_type": "execute_result"
    }
   ],
   "source": [
    "test = pd.read_csv(\"../data/Scrumpulicious_test.csv\")\n",
    "test = data_processing(test)\n",
    "test = test.drop(deleted_columns, axis=1)\n",
    "test.head()"
   ]
  },
  {
   "cell_type": "code",
   "execution_count": 32,
   "metadata": {},
   "outputs": [],
   "source": [
    "test = standardize_data(np.array(test))"
   ]
  },
  {
   "cell_type": "code",
   "execution_count": 33,
   "metadata": {},
   "outputs": [
    {
     "name": "stdout",
     "output_type": "stream",
     "text": [
      "Test data Results\n"
     ]
    },
    {
     "data": {
      "text/plain": [
       "(array([0, 1]), array([2553,   39]))"
      ]
     },
     "execution_count": 33,
     "metadata": {},
     "output_type": "execute_result"
    }
   ],
   "source": [
    "print ('Test data Results')\n",
    "y_pred_test = loaded_model.predict(test) \n",
    "np.unique(y_pred_test, return_counts=True)"
   ]
  },
  {
   "cell_type": "code",
   "execution_count": 34,
   "metadata": {},
   "outputs": [
    {
     "data": {
      "text/plain": [
       "array([0, 0, 0, ..., 0, 0, 0])"
      ]
     },
     "execution_count": 34,
     "metadata": {},
     "output_type": "execute_result"
    }
   ],
   "source": [
    "loaded_model.predict(test) "
   ]
  },
  {
   "cell_type": "code",
   "execution_count": 35,
   "metadata": {},
   "outputs": [
    {
     "name": "stdout",
     "output_type": "stream",
     "text": [
      "0.65%\n"
     ]
    }
   ],
   "source": [
    "data = np.unique(y, return_counts=True)[1]\n",
    "print((\"{:.2f}%\".format((data[1]/data[0])*100)))"
   ]
  },
  {
   "cell_type": "code",
   "execution_count": 36,
   "metadata": {},
   "outputs": [
    {
     "name": "stdout",
     "output_type": "stream",
     "text": [
      "1.53%\n"
     ]
    }
   ],
   "source": [
    "data = np.unique(y_pred_test, return_counts=True)[1]\n",
    "print((\"{:.2f}%\".format((data[1]/data[0])*100)))"
   ]
  },
  {
   "cell_type": "code",
   "execution_count": null,
   "metadata": {},
   "outputs": [],
   "source": []
  }
 ],
 "metadata": {
  "kernelspec": {
   "display_name": "Python 3",
   "language": "python",
   "name": "python3"
  },
  "language_info": {
   "codemirror_mode": {
    "name": "ipython",
    "version": 3
   },
   "file_extension": ".py",
   "mimetype": "text/x-python",
   "name": "python",
   "nbconvert_exporter": "python",
   "pygments_lexer": "ipython3",
   "version": "3.6.4"
  }
 },
 "nbformat": 4,
 "nbformat_minor": 2
}
